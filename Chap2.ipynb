{
 "cells": [
  {
   "cell_type": "code",
   "execution_count": 1,
   "id": "28c2b4f1",
   "metadata": {},
   "outputs": [
    {
     "name": "stdout",
     "output_type": "stream",
     "text": [
      "123\n"
     ]
    }
   ],
   "source": [
    "print(123)"
   ]
  },
  {
   "cell_type": "code",
   "execution_count": 2,
   "id": "f6d976ca",
   "metadata": {},
   "outputs": [
    {
     "name": "stdout",
     "output_type": "stream",
     "text": [
      "2020\n"
     ]
    }
   ],
   "source": [
    "print(2020)"
   ]
  },
  {
   "cell_type": "code",
   "execution_count": 3,
   "id": "7935bcef",
   "metadata": {},
   "outputs": [
    {
     "ename": "NameError",
     "evalue": "name '가나다' is not defined",
     "output_type": "error",
     "traceback": [
      "\u001b[1;31m---------------------------------------------------------------------------\u001b[0m",
      "\u001b[1;31mNameError\u001b[0m                                 Traceback (most recent call last)",
      "\u001b[1;32m~\\AppData\\Local\\Temp/ipykernel_14484/53904903.py\u001b[0m in \u001b[0;36m<module>\u001b[1;34m\u001b[0m\n\u001b[1;32m----> 1\u001b[1;33m \u001b[0mprint\u001b[0m\u001b[1;33m(\u001b[0m\u001b[0m가나다\u001b[0m\u001b[1;33m)\u001b[0m\u001b[1;33m\u001b[0m\u001b[1;33m\u001b[0m\u001b[0m\n\u001b[0m",
      "\u001b[1;31mNameError\u001b[0m: name '가나다' is not defined"
     ]
    }
   ],
   "source": [
    "print(가나다)"
   ]
  },
  {
   "cell_type": "code",
   "execution_count": 4,
   "id": "02b2ebd3",
   "metadata": {},
   "outputs": [
    {
     "name": "stdout",
     "output_type": "stream",
     "text": [
      "가나다\n"
     ]
    }
   ],
   "source": [
    "print('가나다')"
   ]
  },
  {
   "cell_type": "code",
   "execution_count": 5,
   "id": "1bad798e",
   "metadata": {},
   "outputs": [
    {
     "name": "stdout",
     "output_type": "stream",
     "text": [
      "123\n"
     ]
    }
   ],
   "source": [
    "print('123')"
   ]
  },
  {
   "cell_type": "code",
   "execution_count": 6,
   "id": "0fa1b2fb",
   "metadata": {},
   "outputs": [
    {
     "name": "stdout",
     "output_type": "stream",
     "text": [
      "125\n"
     ]
    },
    {
     "ename": "TypeError",
     "evalue": "can only concatenate str (not \"int\") to str",
     "output_type": "error",
     "traceback": [
      "\u001b[1;31m---------------------------------------------------------------------------\u001b[0m",
      "\u001b[1;31mTypeError\u001b[0m                                 Traceback (most recent call last)",
      "\u001b[1;32m~\\AppData\\Local\\Temp/ipykernel_14484/3345042780.py\u001b[0m in \u001b[0;36m<module>\u001b[1;34m\u001b[0m\n\u001b[0;32m      1\u001b[0m \u001b[0mprint\u001b[0m\u001b[1;33m(\u001b[0m\u001b[1;36m123\u001b[0m\u001b[1;33m+\u001b[0m\u001b[1;36m2\u001b[0m\u001b[1;33m)\u001b[0m\u001b[1;33m\u001b[0m\u001b[1;33m\u001b[0m\u001b[0m\n\u001b[1;32m----> 2\u001b[1;33m \u001b[0mprint\u001b[0m\u001b[1;33m(\u001b[0m\u001b[1;34m'123'\u001b[0m\u001b[1;33m+\u001b[0m\u001b[1;36m2\u001b[0m\u001b[1;33m)\u001b[0m\u001b[1;33m\u001b[0m\u001b[1;33m\u001b[0m\u001b[0m\n\u001b[0m",
      "\u001b[1;31mTypeError\u001b[0m: can only concatenate str (not \"int\") to str"
     ]
    }
   ],
   "source": [
    "print(123+2)\n",
    "print('123'+2)"
   ]
  },
  {
   "cell_type": "code",
   "execution_count": 7,
   "id": "397bc638",
   "metadata": {},
   "outputs": [
    {
     "name": "stdout",
     "output_type": "stream",
     "text": [
      "123 + 9\n",
      "123 - 9\n"
     ]
    }
   ],
   "source": [
    "print('123 + 9')\n",
    "print('123 - 9')"
   ]
  },
  {
   "cell_type": "code",
   "execution_count": 8,
   "id": "8442defb",
   "metadata": {},
   "outputs": [
    {
     "name": "stdout",
     "output_type": "stream",
     "text": [
      "132\n",
      "114\n"
     ]
    }
   ],
   "source": [
    "print(123+9)\n",
    "print(123-9)"
   ]
  },
  {
   "cell_type": "code",
   "execution_count": 9,
   "id": "522cae40",
   "metadata": {},
   "outputs": [
    {
     "name": "stdout",
     "output_type": "stream",
     "text": [
      "864\n",
      "13.5\n"
     ]
    }
   ],
   "source": [
    "print(108*8)\n",
    "print(108/8)"
   ]
  },
  {
   "cell_type": "code",
   "execution_count": 10,
   "id": "58c90246",
   "metadata": {},
   "outputs": [
    {
     "name": "stdout",
     "output_type": "stream",
     "text": [
      "13\n"
     ]
    }
   ],
   "source": [
    "print(108//8)"
   ]
  },
  {
   "cell_type": "code",
   "execution_count": 11,
   "id": "d709b6ec",
   "metadata": {},
   "outputs": [
    {
     "name": "stdout",
     "output_type": "stream",
     "text": [
      "4\n"
     ]
    }
   ],
   "source": [
    "\n",
    "print(108%8)"
   ]
  },
  {
   "cell_type": "code",
   "execution_count": 12,
   "id": "8af4d1cc",
   "metadata": {},
   "outputs": [
    {
     "name": "stdout",
     "output_type": "stream",
     "text": [
      "25\n"
     ]
    }
   ],
   "source": [
    "print(5**2)"
   ]
  },
  {
   "cell_type": "code",
   "execution_count": 13,
   "id": "a5d0c2a4",
   "metadata": {},
   "outputs": [
    {
     "name": "stdout",
     "output_type": "stream",
     "text": [
      "파이썬프로그래밍\n"
     ]
    }
   ],
   "source": [
    "print('파이썬'+'프로그래밍')"
   ]
  },
  {
   "cell_type": "code",
   "execution_count": 14,
   "id": "3fe3c6f7",
   "metadata": {},
   "outputs": [
    {
     "name": "stdout",
     "output_type": "stream",
     "text": [
      "파이썬 프로그래밍\n",
      "14 31\n"
     ]
    }
   ],
   "source": [
    "print('파이썬','프로그래밍')\n",
    "print(14,31)"
   ]
  },
  {
   "cell_type": "code",
   "execution_count": 19,
   "id": "4b25e63c",
   "metadata": {},
   "outputs": [
    {
     "ename": "TypeError",
     "evalue": "can only concatenate str (not \"int\") to str",
     "output_type": "error",
     "traceback": [
      "\u001b[1;31m---------------------------------------------------------------------------\u001b[0m",
      "\u001b[1;31mTypeError\u001b[0m                                 Traceback (most recent call last)",
      "\u001b[1;32m~\\AppData\\Local\\Temp/ipykernel_14484/1012090911.py\u001b[0m in \u001b[0;36m<module>\u001b[1;34m\u001b[0m\n\u001b[1;32m----> 1\u001b[1;33m \u001b[0mprint\u001b[0m\u001b[1;33m(\u001b[0m\u001b[1;34m'파이썬'\u001b[0m\u001b[1;33m+\u001b[0m\u001b[1;36m3\u001b[0m\u001b[1;33m)\u001b[0m\u001b[1;33m\u001b[0m\u001b[1;33m\u001b[0m\u001b[0m\n\u001b[0m",
      "\u001b[1;31mTypeError\u001b[0m: can only concatenate str (not \"int\") to str"
     ]
    }
   ],
   "source": [
    "print('파이썬'+3)"
   ]
  },
  {
   "cell_type": "code",
   "execution_count": 21,
   "id": "43eff682",
   "metadata": {},
   "outputs": [
    {
     "ename": "TypeError",
     "evalue": "unsupported operand type(s) for -: 'str' and 'int'",
     "output_type": "error",
     "traceback": [
      "\u001b[1;31m---------------------------------------------------------------------------\u001b[0m",
      "\u001b[1;31mTypeError\u001b[0m                                 Traceback (most recent call last)",
      "\u001b[1;32m~\\AppData\\Local\\Temp/ipykernel_14484/1401648301.py\u001b[0m in \u001b[0;36m<module>\u001b[1;34m\u001b[0m\n\u001b[1;32m----> 1\u001b[1;33m \u001b[0mprint\u001b[0m\u001b[1;33m(\u001b[0m\u001b[1;34m'파이썬'\u001b[0m\u001b[1;33m-\u001b[0m\u001b[1;36m3\u001b[0m\u001b[1;33m)\u001b[0m\u001b[1;33m\u001b[0m\u001b[1;33m\u001b[0m\u001b[0m\n\u001b[0m",
      "\u001b[1;31mTypeError\u001b[0m: unsupported operand type(s) for -: 'str' and 'int'"
     ]
    }
   ],
   "source": [
    "print('파이썬'-3)\n"
   ]
  },
  {
   "cell_type": "code",
   "execution_count": 22,
   "id": "9987454b",
   "metadata": {},
   "outputs": [
    {
     "name": "stdout",
     "output_type": "stream",
     "text": [
      "파이썬파이썬파이썬\n"
     ]
    }
   ],
   "source": [
    "print('파이썬'*3)"
   ]
  },
  {
   "cell_type": "code",
   "execution_count": 23,
   "id": "cb722f6b",
   "metadata": {},
   "outputs": [
    {
     "ename": "TypeError",
     "evalue": "unsupported operand type(s) for /: 'str' and 'int'",
     "output_type": "error",
     "traceback": [
      "\u001b[1;31m---------------------------------------------------------------------------\u001b[0m",
      "\u001b[1;31mTypeError\u001b[0m                                 Traceback (most recent call last)",
      "\u001b[1;32m~\\AppData\\Local\\Temp/ipykernel_14484/2198718729.py\u001b[0m in \u001b[0;36m<module>\u001b[1;34m\u001b[0m\n\u001b[1;32m----> 1\u001b[1;33m \u001b[0mprint\u001b[0m\u001b[1;33m(\u001b[0m\u001b[1;34m'파이썬'\u001b[0m\u001b[1;33m/\u001b[0m\u001b[1;36m3\u001b[0m\u001b[1;33m)\u001b[0m\u001b[1;33m\u001b[0m\u001b[1;33m\u001b[0m\u001b[0m\n\u001b[0m",
      "\u001b[1;31mTypeError\u001b[0m: unsupported operand type(s) for /: 'str' and 'int'"
     ]
    }
   ],
   "source": [
    "print('파이썬'/3)"
   ]
  },
  {
   "cell_type": "code",
   "execution_count": 24,
   "id": "77c29037",
   "metadata": {},
   "outputs": [
    {
     "name": "stdout",
     "output_type": "stream",
     "text": [
      "파이썬 + 프로그래밍\n",
      "파이썬+프로그래밍\n"
     ]
    }
   ],
   "source": [
    "print('파이썬 + 프로그래밍')\n",
    "print('파이썬+프로그래밍')"
   ]
  },
  {
   "cell_type": "code",
   "execution_count": 1,
   "id": "2dd48efc",
   "metadata": {},
   "outputs": [
    {
     "name": "stdout",
     "output_type": "stream",
     "text": [
      "파이썬\n"
     ]
    },
    {
     "data": {
      "text/plain": [
       "'파이썬'"
      ]
     },
     "execution_count": 1,
     "metadata": {},
     "output_type": "execute_result"
    }
   ],
   "source": [
    "#입력\n",
    "input()"
   ]
  },
  {
   "cell_type": "code",
   "execution_count": 2,
   "id": "2451ef93",
   "metadata": {},
   "outputs": [
    {
     "name": "stdout",
     "output_type": "stream",
     "text": [
      "3456\n"
     ]
    },
    {
     "data": {
      "text/plain": [
       "'456'"
      ]
     },
     "execution_count": 2,
     "metadata": {},
     "output_type": "execute_result"
    }
   ],
   "source": [
    "input(3)"
   ]
  },
  {
   "cell_type": "code",
   "execution_count": 3,
   "id": "6571b127",
   "metadata": {},
   "outputs": [
    {
     "name": "stdout",
     "output_type": "stream",
     "text": [
      "입력 4월 11일\n"
     ]
    },
    {
     "data": {
      "text/plain": [
       "'4월 11일'"
      ]
     },
     "execution_count": 3,
     "metadata": {},
     "output_type": "execute_result"
    }
   ],
   "source": [
    "input('입력 ')"
   ]
  },
  {
   "cell_type": "code",
   "execution_count": 4,
   "id": "584020d6",
   "metadata": {},
   "outputs": [
    {
     "name": "stdout",
     "output_type": "stream",
     "text": [
      "아이디: gilbut\n",
      "비밀번호: fighting!!!\n"
     ]
    },
    {
     "data": {
      "text/plain": [
       "'fighting!!!'"
      ]
     },
     "execution_count": 4,
     "metadata": {},
     "output_type": "execute_result"
    }
   ],
   "source": [
    "input('아이디: ')\n",
    "input('비밀번호: ')"
   ]
  },
  {
   "cell_type": "code",
   "execution_count": 5,
   "id": "b0b26674",
   "metadata": {},
   "outputs": [
    {
     "name": "stdout",
     "output_type": "stream",
     "text": [
      "학번을 입력하세요---> 20184426\n"
     ]
    },
    {
     "data": {
      "text/plain": [
       "'20184426'"
      ]
     },
     "execution_count": 5,
     "metadata": {},
     "output_type": "execute_result"
    }
   ],
   "source": [
    "input('학번을 입력하세요---> ')\n"
   ]
  },
  {
   "cell_type": "code",
   "execution_count": 6,
   "id": "0694749e",
   "metadata": {},
   "outputs": [
    {
     "name": "stdout",
     "output_type": "stream",
     "text": [
      "아이디: chlogy\n",
      "비밀번호: cksdnf2ek!\n",
      "chlogy님 환영합니다!\n"
     ]
    }
   ],
   "source": [
    "input('아이디: ')\n",
    "input('비밀번호: ')\n",
    "print('chlogy님 환영합니다!')\n"
   ]
  },
  {
   "cell_type": "code",
   "execution_count": 7,
   "id": "e79d138f",
   "metadata": {},
   "outputs": [
    {
     "name": "stdout",
     "output_type": "stream",
     "text": [
      "---회원가입---\n",
      "아이디: chlogy\n",
      "가입을 환영합니다! \n"
     ]
    }
   ],
   "source": [
    "print('---회원가입---')\n",
    "input('아이디: ')\n",
    "print('가입을 환영합니다! ')"
   ]
  },
  {
   "cell_type": "code",
   "execution_count": 8,
   "id": "7e10a552",
   "metadata": {},
   "outputs": [
    {
     "name": "stdout",
     "output_type": "stream",
     "text": [
      "아이디: chlogy\n",
      "chlogy님, 가입을 환영합니다!\n"
     ]
    }
   ],
   "source": [
    "print(input('아이디: ') + '님, 가입을 환영합니다!')\n"
   ]
  },
  {
   "cell_type": "code",
   "execution_count": 9,
   "id": "6908ec80",
   "metadata": {},
   "outputs": [
    {
     "name": "stdout",
     "output_type": "stream",
     "text": [
      "아이디: chlogy\n",
      "chlogy 님, 가입을 환영합니다!\n"
     ]
    }
   ],
   "source": [
    "print(input('아이디: '), '님, 가입을 환영합니다!')\n",
    "\n"
   ]
  },
  {
   "cell_type": "code",
   "execution_count": 10,
   "id": "079ed032",
   "metadata": {},
   "outputs": [
    {
     "name": "stdout",
     "output_type": "stream",
     "text": [
      "---회원가입---\n",
      "아이디: chlogy\n",
      "chlogy님, 가입을 환영합니다!\n"
     ]
    }
   ],
   "source": [
    "print('---회원가입---')\n",
    "print(input('아이디: ') + '님, 가입을 환영합니다!')"
   ]
  },
  {
   "cell_type": "code",
   "execution_count": null,
   "id": "903e2577",
   "metadata": {},
   "outputs": [],
   "source": []
  }
 ],
 "metadata": {
  "kernelspec": {
   "display_name": "Python 3 (ipykernel)",
   "language": "python",
   "name": "python3"
  },
  "language_info": {
   "codemirror_mode": {
    "name": "ipython",
    "version": 3
   },
   "file_extension": ".py",
   "mimetype": "text/x-python",
   "name": "python",
   "nbconvert_exporter": "python",
   "pygments_lexer": "ipython3",
   "version": "3.9.7"
  }
 },
 "nbformat": 4,
 "nbformat_minor": 5
}
