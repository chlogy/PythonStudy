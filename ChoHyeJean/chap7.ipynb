{
 "cells": [
  {
   "cell_type": "code",
   "execution_count": 3,
   "id": "2768a3da",
   "metadata": {},
   "outputs": [
    {
     "name": "stdout",
     "output_type": "stream",
     "text": [
      "{'break': '깨어지다', 'bring': '가져오다', 'brush': ['붓', '빗'], 'brave': '용감한'}\n",
      "['붓', '빗']\n"
     ]
    }
   ],
   "source": [
    "eng = {'break':'깨어지다', 'bring':'가져오다', 'brush':['붓','빗'], 'brave':'용감한'}\n",
    "print(eng)\n",
    "print(eng['brush'])"
   ]
  },
  {
   "cell_type": "code",
   "execution_count": 8,
   "id": "a98188d3",
   "metadata": {},
   "outputs": [
    {
     "name": "stdout",
     "output_type": "stream",
     "text": [
      "[10500, 4800, 2600, 1700, 1500]\n"
     ]
    }
   ],
   "source": [
    "mart = {'과자':1500, '아이스크림':1700, '휴지':4800, '고기':10500, '우유':2600}\n",
    "print(sorted(mart.values(), reverse=True))"
   ]
  },
  {
   "cell_type": "code",
   "execution_count": 10,
   "id": "44807f35",
   "metadata": {},
   "outputs": [
    {
     "name": "stdout",
     "output_type": "stream",
     "text": [
      "[('고기', 10500), ('과자', 1500), ('아이스크림', 1700), ('우유', 2600), ('휴지', 4800)]\n"
     ]
    }
   ],
   "source": [
    "import operator\n",
    "mart = {'과자':1500, '아이스크림':1700, '휴지':4800, '고기':10500, '우유':2600}\n",
    "print(sorted(mart.items(),key=operator.itemgetter(0)))"
   ]
  },
  {
   "cell_type": "code",
   "execution_count": 11,
   "id": "47501e41",
   "metadata": {},
   "outputs": [
    {
     "name": "stdout",
     "output_type": "stream",
     "text": [
      "{'고기': 10500, '과자': 1500, '아이스크림': 1700, '우유': 2600, '휴지': 4800}\n"
     ]
    }
   ],
   "source": [
    "mart = {'과자':1500, '아이스크림':1700, '휴지':4800, '고기':10500, '우유':2600}\n",
    "mart = dict(sorted(mart.items()))\n",
    "print(mart)"
   ]
  },
  {
   "cell_type": "code",
   "execution_count": 13,
   "id": "be4c4605",
   "metadata": {},
   "outputs": [
    {
     "name": "stdout",
     "output_type": "stream",
     "text": [
      "어떤 학생의 점수가 궁금한가?해진\n",
      "해당 학생이 없습니다.\n"
     ]
    }
   ],
   "source": [
    "mid = {'도윤':43, '하윤':82, '시우':76, '지유':61, '주원':94}\n",
    "student = input('어떤 학생의 점수가 궁금한가?')\n",
    "if student in mid.keys():\n",
    "    print(mid[student], '점입니다.')\n",
    "else:\n",
    "    print('해당 학생이 없습니다.')"
   ]
  },
  {
   "cell_type": "code",
   "execution_count": 14,
   "id": "8373454b",
   "metadata": {},
   "outputs": [
    {
     "name": "stdout",
     "output_type": "stream",
     "text": [
      "도윤 하윤 시우 지유 주원 "
     ]
    }
   ],
   "source": [
    "mid = {'도윤':43, '하윤':82, '시우':76, '지유':61, '주원':94}\n",
    "for k in mid.keys():\n",
    "    print(k, end=' ')"
   ]
  },
  {
   "cell_type": "code",
   "execution_count": 15,
   "id": "3cb73a81",
   "metadata": {},
   "outputs": [
    {
     "name": "stdout",
     "output_type": "stream",
     "text": [
      "도윤 43 하윤 82 시우 76 지유 61 주원 94 "
     ]
    }
   ],
   "source": [
    "mid = {'도윤':43, '하윤':82, '시우':76, '지유':61, '주원':94}\n",
    "for k, v in mid.items():\n",
    "    print(k, v, end=' ')"
   ]
  },
  {
   "cell_type": "code",
   "execution_count": 16,
   "id": "b1c4b49f",
   "metadata": {},
   "outputs": [
    {
     "name": "stdout",
     "output_type": "stream",
     "text": [
      "점수가 70점 이상인 학생의 이름과 점수 출력\n",
      "하윤 82 시우 76 주원 94 "
     ]
    }
   ],
   "source": [
    "mid = {'도윤':43, '하윤':82, '시우':76, '지유':61, '주원':94}\n",
    "print('점수가 70점 이상인 학생의 이름과 점수 출력')\n",
    "for k, v in mid.items():\n",
    "    if v >= 70:\n",
    "        print(k, v, end=' ')"
   ]
  },
  {
   "cell_type": "code",
   "execution_count": 22,
   "id": "70c9dc09",
   "metadata": {},
   "outputs": [
    {
     "name": "stdout",
     "output_type": "stream",
     "text": [
      "[('accosting', 1), ('admission', 1), ('adopt', 1), ('again', 1), ('alibaba', 17), ('all', 2), ('allowed', 1), ('am', 1), ('among', 1), ('any', 1), ('appeared', 2), ('approaching', 3), ('armed', 1), ('arose', 1), ('assemble', 1), ('assembled', 1), ('asses', 3), ('away', 1), ('back', 2), ('bade', 1), ('bags', 1), ('bed', 1), ('before', 1), ('best', 1), ('blindfolded', 3), ('body', 3), ('boiled', 2), ('boiling', 1), ('bottom', 1), ('branches', 1), ('brother', 4), ('brothers', 1), ('brought', 3), ('buried', 2), ('buying', 1), ('by', 1), ('came', 1), ('captain', 5), ('carried', 1), ('carry', 1), ('cassim', 6), ('caused', 1), ('cave', 4), ('chalk', 1), ('chests', 1), ('city', 2), ('civilities', 1), ('climbed', 1), ('closed', 1), ('coat', 1), ('cobbler', 2), ('cogia', 5), ('coin', 1), ('come', 1), ('coming', 2), ('company', 1), ('concluded', 1), ('considerable', 1), ('cottage', 1), ('could', 1), ('counted', 1), ('courtyard', 1), ('cut', 2), ('cutting', 1), ('dagger', 2), ('danced', 1), ('dancing', 1), ('dancing-girl', 1), ('day', 1), ('death', 3), ('deceased', 1), ('delivered', 1), ('destruction', 1), ('detained', 1), ('determined', 1), ('dinner', 1), ('direct', 1), ('disguising', 1), ('dish', 1), ('door', 8), ('down', 1), ('dressed', 1), ('drew', 1), ('drinking', 1), ('drove', 1), ('due', 1), ('dwelt', 2), ('each', 2), ('early', 3), ('ease', 1), ('elder', 1), ('empty', 1), ('entering', 1), ('entertain', 1), ('entrance', 1), ('escape', 1), ('every', 3), ('exactly', 1), ('expected', 1), ('faggots', 1), ('faithfulness', 1), ('family', 1), ('feet', 1), ('felt', 1), ('female', 1), ('filled', 1), ('find', 1), ('fire', 1), ('first', 3), ('flew', 1), ('fond', 1), ('forced', 1), ('forest', 2), ('forget', 1), ('fortune', 1), ('forty', 1), ('found', 4), ('full', 2), ('gained', 1), ('garden', 1), ('gave', 2), ('girdle', 1), ('go', 1), ('gold', 4), ('great', 3), ('guest', 2), ('habit', 1), ('hand', 1), ('hassan', 5), ('hastily', 2), ('have', 1), ('having', 2), ('heard', 1), ('heart', 1), ('herself', 3), ('hid', 2), ('himself', 4), ('horse', 1), ('horsemen', 1), ('horses', 1), ('house', 5), ('however', 1), ('immediately', 2), ('immense', 1), ('instantly', 2), ('invited', 2), ('is', 1), ('itself', 1), ('jar', 3), ('jars', 2), ('job', 1), ('kettle', 1), ('kill', 1), ('kitchen', 2), ('knew', 1), ('lamp', 1), ('large', 3), ('later', 1), ('led', 1), ('length', 1), ('let', 1), ('letting', 1), ('limbs', 1), ('lived', 2), ('load', 1), ('loaded', 2), ('lock', 1), ('lodge', 1), ('looked', 1), ('lying', 1), ('made', 2), ('maintained', 1), ('make', 1), ('man', 3), ('mangled', 1), ('many', 2), ('marked', 1), ('marriage', 1), ('married', 1), ('master', 1), ('may', 1), ('mean', 1), ('men', 1), ('merchandise', 1), ('merchant', 2), ('moment', 1), ('more', 1), ('morgiana', 5), ('morning', 3), ('mules', 3), ('mustapha', 1), ('my', 1), ('named', 1), ('necessary', 1), ('new', 1), ('next', 3), ('night', 2), ('nineteen', 1), ('no', 1), ('not', 1), ('obeyed', 1), ('offered', 2), ('often', 1), ('oil', 8), ('on', 2), ('one', 6), ('open', 5), ('opened', 2), ('opposite', 2), ('ordered', 1), ('other', 2), ('out', 6), ('over', 1), ('own', 1), ('parlor', 1), ('passed', 1), ('perceived', 1), ('persia', 1), ('pieces', 3), ('plunged', 1), ('poor', 3), ('portmanteau', 1), ('possessed', 1), ('possession', 2), ('pot', 1), ('poured', 1), ('preparing', 1), ('presently', 1), ('presents', 1), ('pretended', 3), ('proceeded', 1), ('properly', 1), ('put', 6), ('quarters', 2), ('quite', 1), ('rage', 1), ('ran', 2), ('received', 1), ('removed', 2), ('replied', 1), ('resolved', 1), ('rest', 2), ('return', 1), ('reward', 1), ('robber', 3), ('robbers', 4), ('rock', 3), ('room', 1), ('rose', 1), ('said', 6), ('same', 1), ('saw', 1), ('scheme', 1), ('secret', 3), ('sell', 1), ('sent', 2), ('sesame', 4), ('set', 2), ('several', 1), ('sew', 1), ('shop', 2), ('short', 1), ('shut', 2), ('sir', 1), ('sitting', 1), ('six', 1), ('slave', 1), ('slaves', 1), ('so', 1), ('solemnity', 1), ('some', 2), ('son', 3), ('sons', 1), ('soon', 3), ('sound', 1), ('steam', 1), ('stranger', 1), ('street', 1), ('suburbs', 1), ('sufficient', 1), ('supper', 2), ('table', 1), ('taking', 1), ('ten', 1), ('than', 2), ('these', 1), ('thick', 1), ('thieves', 1), ('thirty-nine', 2), ('thought', 1), ('time', 2), ('times', 1), ('to-night', 1), ('together', 1), ('told', 2), ('took', 6), ('town', 1), ('traced', 1), ('treasures', 1), ('tree', 1), ('troop', 3), ('turning', 1), ('two', 3), ('under', 1), ('until', 1), ('up', 1), ('upon', 1), ('usual', 1), ('valuable', 1), ('ventured', 1), ('very', 1), ('waited', 1), ('walls', 1), ('way', 2), ('wealth', 1), ('welcomed', 1), ('went', 5), ('when', 3), ('where', 4), ('which', 5), ('while', 1), ('who', 4), ('wife', 3), ('will', 1), ('within', 2), ('without', 1), ('wood', 2), ('word', 1), ('yet', 1), ('your', 1)]\n"
     ]
    }
   ],
   "source": [
    "import operator\n",
    "\n",
    "alibaba = \"in a town of persia lived two brothers , sons of a poor man , one named cassim , the other alibaba . cassim , the elder , married a wife with a considerable fortune , and lived at his ease , but the wife of alibaba was as poor as himself . they dwelt in a mean cottage in the suburbs , and he maintained his family by cutting wood . alibaba was in the forest preparing to load his asses with the faggots he had cut , when he saw a troop of horsemen approaching . he hastily climbed a large thick tree , and hid himself among the branches . alibaba counted forty of them , each took a loaded portmanteau from his horse , and turning to the rock , said , open , sesame immediately a door opened , the robbers passed in , when the door shut of itself . in a short time the door opened again , and the robbers came out , who said , shut , sesame . the door instantly closed . alibaba ventured down , and approaching the rock , said , open , sesame . immediately the door flew open . he brought his asses , and took as many bags of gold coin as they could carry . alibaba told his brother the secret of the cave . cassim rose early next morning , and set out with ten mules loaded with great chests . he found the rock , and having said , open sesame , gained admission , where he found more treasures than he expected , which made him forget the word that caused the door to open . presently he heard the sound of horses feet , which he concluded to be the robbers , who instantly put him to death . alibaba drove to the forest , and on entering the cave , he found the body of his brother cut into quarters . he took the quarters , and put them upon one of his asses , and delivered the body to cassim wife . morgiana , a female slave in his brother house , was sent early next morning to a poor cobbler , and gave him two pieces of gold to go with her blindfolded , taking him into the room where the body was lying , bade him sew the mangled limbs together . mustapha obeyed , having received two pieces of gold , and was led blindfolded the same way back . cassim was buried with all due solemnity , and alibaba removed to the house of his deceased brother , of which he took possession . the captain of the troop resolved to find out who possessed the secret of entrance into his cave , and disguising himself , went to the city early one morning , when , accosting the cobbler , he was told of the job he had , who for six pieces of gold , allowed himself to be blindfolded , and traced out the house of cassim , which the robber marked with chalk . buying nineteen mules and thirty-nine large jars , one full of oil , and the rest empty , the captain put a man into each jar , properly armed , and then proceeded to the street where alibaba dwelt . sir , said he , i have brought this oil a great way to sell , as i am quite a stranger , will you let me put my mules into your courtyard , and direct me where i may lodge to-night ? alibaba welcomed the pretended oil merchant , offered him a bed in his own house , and invited his guest in to supper . morgiana , sitting up later that night than usual , her lamp went out . she took her oil pot in her hand , and approaching the first jar , the robber within said is it time , captain ? she replied , no , not yet . so she ran back to the kitchen , and brought out a large kettle , which she filled with oil , set it on a great wood fire , and as soon as it boiled , she went and poured into the jars sufficient of the boiling oil to kill every man within . the captain of the robbers arose to assemble his men . coming to the first jar , he felt the steam of the boiled oil ! he ran hastily to the rest , and found every one of his troop put to death . full of rage , he forced the lock of the door , and made his escape over the walls . without letting any one into the secret , alibaba and morgiana the next night buried the thirty-nine thieves at the bottom of the garden . the captain at length , however , determined to adopt a new scheme for the destruction of alibaba . he removed all the valuable merchandise from the cave to the city , and took a shop exactly opposite to alibaba house . alibaba son went every day to his shop . the pretended cogia hassan soon appeared to be very fond of alibaba son , offered him many presents , and often detained him to dinner . alibaba thought it was necessary to make some return to these civilities , and he invited cogia hassan to supper , morgiana carried in the first dish herself . the moment she looked at cogia hassan , she knew it was the pretended oil merchant . she sent the other slaves into the kitchen , and waited at table herself , and while cogia hassan was drinking , she perceived he had a dagger hid under his coat . she went away , and dressed herself in the habit of a dancing-girl . as soon as she appeared at the parlor door , her master ordered her to come in to entertain his guest with some of her best dancing . morgiana danced several times before the assembled company , until , coming opposite cogia hassan , she drew a dagger from her girdle and plunged it into the robber heart . as a reward for her faithfulness , alibaba gave her in marriage to his son , and at his death put them in possession of his immense wealth .\"\n",
    "meaningless = ['.', ',', '!', '?', 'the', 'he', 'and', 'to', 'a', 'of', \n",
    "               'was', 'in', 'had', 'for', 'it', 'that', 'but', 'as', 'with', \n",
    "               'at', 'i', 'into', 'be', 'this', 'me', 'from', 'then', 'him', \n",
    "               'his', 'her', 'she','they', 'them', 'you']\n",
    "vocab = {}\n",
    "word_list = alibaba.split()\n",
    "\n",
    "for w in word_list:\n",
    "    if w not in vocab:\n",
    "        vocab[w] = 1\n",
    "    else:\n",
    "        vocab[w] += 1\n",
    "for word in meaningless:\n",
    "    del vocab[word]\n",
    "print(sorted(vocab.items()))\n",
    "#print(sorted(vocab.items(), key=operator.itemgetter(1), reverse=True))"
   ]
  },
  {
   "cell_type": "code",
   "execution_count": 24,
   "id": "60008d1a",
   "metadata": {},
   "outputs": [
    {
     "name": "stdout",
     "output_type": "stream",
     "text": [
      "{'월요일': 'Mon', '화요일': 'Tue', '수요일': 'Wed', '목요일': 'Thu', '금요일': 'Fri', '토요일': 'Sat', '일요일': 'Sun'}\n"
     ]
    }
   ],
   "source": [
    "#실습1번-1\n",
    "day = {'월요일':'Mon', '화요일':'Tue', '수요일':'Wed', '목요일':'Thu', '금요일':'Fri'}\n",
    "day['토요일'] = 'Sat'\n",
    "day['일요일'] = 'Sun'\n",
    "print(day)"
   ]
  },
  {
   "cell_type": "code",
   "execution_count": 26,
   "id": "aae40dbb",
   "metadata": {},
   "outputs": [
    {
     "name": "stdout",
     "output_type": "stream",
     "text": [
      "{'월요일': 'Mon', '화요일': 'Tue', '수요일': 'Wed', '목요일': 'Thu', '금요일': 'Fri', '토요일': 'Sat', '일요일': 'SUN'}\n"
     ]
    }
   ],
   "source": [
    "#실습1번-2\n",
    "day = {'월요일':'Mon', '화요일':'Tue', '수요일':'Wed', '목요일':'Thu', '금요일':'Fri'}\n",
    "day['토요일'] = 'Sat'\n",
    "day['일요일'] = 'SUN'\n",
    "print(day)"
   ]
  },
  {
   "cell_type": "code",
   "execution_count": 27,
   "id": "e8f82947",
   "metadata": {},
   "outputs": [
    {
     "name": "stdout",
     "output_type": "stream",
     "text": [
      "{'월요일': 'Mon', '화요일': 'Tue', '목요일': 'Thu', '금요일': 'Fri', '토요일': 'Sat', '일요일': 'SUN'}\n"
     ]
    }
   ],
   "source": [
    "#실습1번-3\n",
    "day = {'월요일':'Mon', '화요일':'Tue', '수요일':'Wed', '목요일':'Thu', '금요일':'Fri'}\n",
    "day['토요일'] = 'Sat'\n",
    "day['일요일'] = 'SUN'\n",
    "del day['수요일']\n",
    "print(day)"
   ]
  },
  {
   "cell_type": "code",
   "execution_count": 32,
   "id": "0e860d56",
   "metadata": {},
   "outputs": [
    {
     "name": "stdout",
     "output_type": "stream",
     "text": [
      "{'역사대모험': 21000.0, '영단어': 9900.0, '파이썬': 17850.0, '여행에세이': 23100.0, '삼국지': 34650.0}\n"
     ]
    }
   ],
   "source": [
    "#실습2번\n",
    "book = {'역사대모험':20000,\n",
    "       '영단어':9000,\n",
    "       '파이썬':17000,\n",
    "       '여행에세이':22000,\n",
    "       '삼국지':33000\n",
    "       }\n",
    "for k, v in book.items():\n",
    "    if v <= 15000:\n",
    "        book[k] += book[k]*0.1\n",
    "    else:\n",
    "        book[k] += book[k]*0.05\n",
    "print(book)"
   ]
  },
  {
   "cell_type": "code",
   "execution_count": 36,
   "id": "2e0ced02",
   "metadata": {},
   "outputs": [
    {
     "name": "stdout",
     "output_type": "stream",
     "text": [
      "[('라이언', 956412), ('니니즈', 861832), ('어피치', 796354), ('프로도', 534840), ('네오', 387896)]\n"
     ]
    }
   ],
   "source": [
    "#실습3번\n",
    "import operator\n",
    "ranking = {'라이언':956412,\n",
    "          '어피치':796354,\n",
    "          '니니즈':861832,\n",
    "          '네오':387896,\n",
    "          '프로도':534840\n",
    "          }\n",
    "print(sorted(ranking.items(), key=operator.itemgetter(1), reverse=True))"
   ]
  },
  {
   "cell_type": "code",
   "execution_count": null,
   "id": "98a25807",
   "metadata": {},
   "outputs": [],
   "source": []
  }
 ],
 "metadata": {
  "kernelspec": {
   "display_name": "Python 3 (ipykernel)",
   "language": "python",
   "name": "python3"
  },
  "language_info": {
   "codemirror_mode": {
    "name": "ipython",
    "version": 3
   },
   "file_extension": ".py",
   "mimetype": "text/x-python",
   "name": "python",
   "nbconvert_exporter": "python",
   "pygments_lexer": "ipython3",
   "version": "3.9.7"
  }
 },
 "nbformat": 4,
 "nbformat_minor": 5
}
