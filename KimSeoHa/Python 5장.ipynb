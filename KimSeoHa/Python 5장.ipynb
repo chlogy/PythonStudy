{
 "cells": [
  {
   "cell_type": "code",
   "execution_count": 1,
   "id": "e5d0feb8",
   "metadata": {},
   "outputs": [
    {
     "name": "stdout",
     "output_type": "stream",
     "text": [
      "1 안녕하세요.\n",
      "2 안녕하세요.\n",
      "3 안녕하세요.\n",
      "4 안녕하세요.\n",
      "5 안녕하세요.\n"
     ]
    }
   ],
   "source": [
    " #반복문\n",
    "for a in [1,2,3,4,5]:\n",
    "    print(a,'안녕하세요.')"
   ]
  },
  {
   "cell_type": "code",
   "execution_count": 4,
   "id": "95de7faf",
   "metadata": {},
   "outputs": [
    {
     "name": "stdout",
     "output_type": "stream",
     "text": [
      "1 선생님 다시는 청소를 빼먹지 않겠습니다.\n",
      "4 선생님 다시는 청소를 빼먹지 않겠습니다.\n",
      "7 선생님 다시는 청소를 빼먹지 않겠습니다.\n"
     ]
    }
   ],
   "source": [
    "#range() 반복문\n",
    "for a in range(1,10,3):   #1~9까지\n",
    "    print(a,'선생님 다시는 청소를 빼먹지 않겠습니다.')"
   ]
  },
  {
   "cell_type": "code",
   "execution_count": 5,
   "id": "1936d510",
   "metadata": {},
   "outputs": [
    {
     "name": "stdout",
     "output_type": "stream",
     "text": [
      "몇 단을 외울까요? 5\n",
      "5 x 1 = 5\n",
      "5 x 2 = 10\n",
      "5 x 3 = 15\n",
      "5 x 4 = 20\n",
      "5 x 5 = 25\n",
      "5 x 6 = 30\n",
      "5 x 7 = 35\n",
      "5 x 8 = 40\n",
      "5 x 9 = 45\n"
     ]
    }
   ],
   "source": [
    "#구구단\n",
    "num=int(input('몇 단을 외울까요? '))\n",
    "for i in range(1,10):\n",
    "    print(num,'x',i,'=',num*i)"
   ]
  },
  {
   "cell_type": "code",
   "execution_count": 7,
   "id": "b9d64b38",
   "metadata": {},
   "outputs": [
    {
     "name": "stdout",
     "output_type": "stream",
     "text": [
      "구구단을 외자! \n",
      "4 x 3 = 12\n",
      "2 x 3 = 6\n",
      "6 x 7 = 42\n",
      "4 x 3 = 12\n",
      "2 x 8 = 16\n",
      "4 x 8 = 32\n",
      "8 x 6 = 48\n",
      "7 x 5 = 35\n",
      "8 x 1 = 8\n",
      "7 x 2 = 14\n"
     ]
    }
   ],
   "source": [
    "import random\n",
    "print('구구단을 외자! ')\n",
    "for i in range(10):\n",
    "    a=random.randint(2,9)\n",
    "    b=random.randint(1,9)\n",
    "    print(a,'x',b,'=',a*b)"
   ]
  },
  {
   "cell_type": "code",
   "execution_count": 8,
   "id": "89d80c2f",
   "metadata": {},
   "outputs": [
    {
     "name": "stdout",
     "output_type": "stream",
     "text": [
      "1 입니다.\n",
      "2 입니다.\n",
      "3 입니다.\n",
      "4 입니다.\n",
      "5 입니다.\n",
      "6 입니다.\n",
      "7 입니다.\n",
      "8 입니다.\n",
      "9 입니다.\n"
     ]
    }
   ],
   "source": [
    "#while문 \n",
    "i=1   #변수 초기화 설정\n",
    "while i<10:\n",
    "    print(i,'입니다.')\n",
    "    i+=1   #증가"
   ]
  },
  {
   "cell_type": "code",
   "execution_count": null,
   "id": "8ee2776f",
   "metadata": {},
   "outputs": [
    {
     "name": "stdout",
     "output_type": "stream",
     "text": [
      "구구단을 외자! 구구단을 외자!\n",
      "7x2=14\n",
      "정답입니다.\n",
      "4x5=21\n",
      "틀렸습니다.\n",
      "5x9=40\n",
      "틀렸습니다.\n",
      "7x2=14\n",
      "정답입니다.\n",
      "7x2=14\n",
      "정답입니다.\n",
      "9x9=81\n",
      "정답입니다.\n",
      "7x5=35\n",
      "정답입니다.\n"
     ]
    }
   ],
   "source": [
    "#구구단을 외자\n",
    "import random\n",
    "print('구구단을 외자! 구구단을 외자!')\n",
    "for i in range(10):\n",
    "    a,b=random.randint(2,9),random.randint(1,9)\n",
    "    question=str(a)+'x'+str(b)+'='\n",
    "    answer=int(input(question))\n",
    "    if answer!=a*b:\n",
    "        print('틀렸습니다.')\n",
    "    else:\n",
    "        print('정답입니다.')"
   ]
  },
  {
   "cell_type": "code",
   "execution_count": 1,
   "id": "1d0a5226",
   "metadata": {},
   "outputs": [
    {
     "name": "stdout",
     "output_type": "stream",
     "text": [
      "1 홀수\n",
      "2 짝수\n",
      "3 홀수\n",
      "4 짝수\n",
      "5 홀수\n",
      "6 짝수\n",
      "7 홀수\n",
      "8 짝수\n",
      "9 홀수\n",
      "10 짝수\n",
      "11 홀수\n",
      "12 짝수\n",
      "13 홀수\n",
      "14 짝수\n",
      "15 홀수\n",
      "16 짝수\n",
      "17 홀수\n",
      "18 짝수\n",
      "19 홀수\n",
      "20 짝수\n",
      "21 홀수\n",
      "22 짝수\n",
      "23 홀수\n",
      "24 짝수\n",
      "25 홀수\n",
      "26 짝수\n",
      "27 홀수\n",
      "28 짝수\n",
      "29 홀수\n",
      "30 짝수\n"
     ]
    }
   ],
   "source": [
    "#홀짝게임\n",
    "for i in range(1,31):\n",
    "    if i%2==1:\n",
    "        print(i,\"홀수\")\n",
    "    else:\n",
    "        print(i,'짝수')"
   ]
  },
  {
   "cell_type": "code",
   "execution_count": 3,
   "id": "52232668",
   "metadata": {},
   "outputs": [
    {
     "name": "stdout",
     "output_type": "stream",
     "text": [
      "1 홀수, 2 짝수, 3 홀수, 4 짝수, 5 홀수, 6 짝수, 7 홀수, 8 짝수, 9 홀수, 10 짝수, 11 홀수, 12 짝수, 13 홀수, 14 짝수, 15 홀수, 16 짝수, 17 홀수, 18 짝수, 19 홀수, 20 짝수, 21 홀수, 22 짝수, 23 홀수, 24 짝수, 25 홀수, 26 짝수, 27 홀수, 28 짝수, 29 홀수, 30 짝수, "
     ]
    }
   ],
   "source": [
    "#홀짝게임\n",
    "for i in range(1,31):\n",
    "    if i%2==1:\n",
    "        print(i,\"홀수\",end=', ')\n",
    "    else:\n",
    "        print(i,'짝수',end=', ')"
   ]
  },
  {
   "cell_type": "code",
   "execution_count": 4,
   "id": "85aa2b37",
   "metadata": {},
   "outputs": [
    {
     "name": "stdout",
     "output_type": "stream",
     "text": [
      "1, 2, 짝!, 4, 5, 짝!, 7, 8, 짝!, 10, 11, 12, 짝!, 14, 15, 짝!, 17, 18, 짝!, 20, 21, 22, 짝!, 24, 25, 짝!, 27, 28, 짝!, 짝!, "
     ]
    }
   ],
   "source": [
    "#369게임\n",
    "for i in range(1,31):\n",
    "    if '3'in str(i) or '6' in str(i) or '9' in str(i): #3,6,9가 들어있으면\n",
    "        print('짝!',end=', ')\n",
    "    else:\n",
    "        print(i,end=', ')"
   ]
  },
  {
   "cell_type": "code",
   "execution_count": 6,
   "id": "e51ac344",
   "metadata": {},
   "outputs": [
    {
     "name": "stdout",
     "output_type": "stream",
     "text": [
      "숫자 입력: 7\n",
      "0 1 2 3 4 5 6 7 "
     ]
    }
   ],
   "source": [
    "#반복 멈추기\n",
    "answer=int(input('숫자 입력: '))\n",
    "for i in range(20):\n",
    "    print(i,end=' ')\n",
    "    if i==answer:\n",
    "        break"
   ]
  },
  {
   "cell_type": "code",
   "execution_count": 7,
   "id": "2287921e",
   "metadata": {},
   "outputs": [
    {
     "name": "stdout",
     "output_type": "stream",
     "text": [
      "구구단을 외자!\n",
      "8x1=8\n",
      "4x1=4\n",
      "9x8=72\n",
      "5x4=21\n",
      "땡! 정답은 20\n"
     ]
    }
   ],
   "source": [
    "#구구단 변형\n",
    "import random\n",
    "print('구구단을 외자!')\n",
    "for i in range(10):\n",
    "    a,b=random.randint(2,9),random.randint(1,9)\n",
    "    answer=int(input(str(a)+'x'+str(b)+'='))\n",
    "    if answer!=a*b:\n",
    "        print('땡! 정답은',a*b)\n",
    "        break"
   ]
  },
  {
   "cell_type": "code",
   "execution_count": 8,
   "id": "decce8e1",
   "metadata": {},
   "outputs": [
    {
     "name": "stdout",
     "output_type": "stream",
     "text": [
      "10\n",
      "20\n",
      "30\n",
      "40\n",
      "50\n",
      "60\n",
      "70\n",
      "80\n",
      "90\n",
      "100\n"
     ]
    }
   ],
   "source": [
    "# 1\n",
    "for i in range (1,11):\n",
    "    print(i*10)"
   ]
  },
  {
   "cell_type": "code",
   "execution_count": 9,
   "id": "c149767c",
   "metadata": {},
   "outputs": [
    {
     "name": "stdout",
     "output_type": "stream",
     "text": [
      "홈트레이닝 2주 계획입니다.\n",
      "1 일: 스쿼트 - 윗몸 일으키기 - 유산소 운동\n",
      "2 일: 스쿼트 - 윗몸 일으키기 - 유산소 운동\n",
      "3 일: 스쿼트 - 윗몸 일으키기 - 유산소 운동\n",
      "4 일: 스쿼트 - 윗몸 일으키기 - 유산소 운동\n",
      "5 일: 휴식입니다.\n",
      "6 일: 스쿼트 - 윗몸 일으키기 - 유산소 운동\n",
      "7 일: 스쿼트 - 윗몸 일으키기 - 유산소 운동\n",
      "8 일: 스쿼트 - 윗몸 일으키기 - 유산소 운동\n",
      "9 일: 스쿼트 - 윗몸 일으키기 - 유산소 운동\n",
      "10 일: 휴식입니다.\n",
      "11 일: 스쿼트 - 윗몸 일으키기 - 유산소 운동\n",
      "12 일: 스쿼트 - 윗몸 일으키기 - 유산소 운동\n",
      "13 일: 스쿼트 - 윗몸 일으키기 - 유산소 운동\n",
      "14 일: 스쿼트 - 윗몸 일으키기 - 유산소 운동\n"
     ]
    }
   ],
   "source": [
    "# 2\n",
    "print('홈트레이닝 2주 계획입니다.')\n",
    "for i in range(1,15):\n",
    "    if i%5==0:\n",
    "        print(i,'일: 휴식입니다.')\n",
    "    else:\n",
    "        print(i,'일: 스쿼트 - 윗몸 일으키기 - 유산소 운동')"
   ]
  },
  {
   "cell_type": "code",
   "execution_count": 10,
   "id": "0c40f011",
   "metadata": {},
   "outputs": [
    {
     "name": "stdout",
     "output_type": "stream",
     "text": [
      "팅 팅팅팅 탱 탱탱탱 팅팅 탱탱 후라이팬 놀이!\n",
      "이름? 수진\n",
      "횟수? 3\n",
      "수진\n",
      "수진\n",
      "수진\n",
      "이름? 명수\n",
      "횟수? 2\n",
      "명수\n",
      "명수\n",
      "이름? 현지\n",
      "횟수? 4\n",
      "현지\n",
      "현지\n",
      "현지\n",
      "현지\n",
      "이름? 지연\n",
      "횟수? 1\n",
      "지연\n",
      "이름? 서하\n",
      "횟수? 1\n",
      "서하\n"
     ]
    }
   ],
   "source": [
    "# 3\n",
    "print('팅 팅팅팅 탱 탱탱탱 팅팅 탱탱 후라이팬 놀이!')\n",
    "for i in range(5):\n",
    "    name=input('이름? ')\n",
    "    num=int(input('횟수? '))\n",
    "    for j in range(num):\n",
    "        print(name)"
   ]
  },
  {
   "cell_type": "code",
   "execution_count": 11,
   "id": "86db2108",
   "metadata": {},
   "outputs": [
    {
     "name": "stdout",
     "output_type": "stream",
     "text": [
      "팅 팅팅팅 탱 탱탱탱 팅팅 탱탱 후라이팬 놀이!\n",
      "이름? 수진\n",
      "횟수? 3\n",
      "수진수진수진\n",
      "이름? 명수\n",
      "횟수? 2\n",
      "명수명수\n",
      "이름? 현지\n",
      "횟수? 4\n",
      "현지현지현지현지\n",
      "이름? 동식\n",
      "횟수? 3\n",
      "동식동식동식\n",
      "이름? 지연\n",
      "횟수? 1\n",
      "지연\n"
     ]
    }
   ],
   "source": [
    "# 3\n",
    "print('팅 팅팅팅 탱 탱탱탱 팅팅 탱탱 후라이팬 놀이!')\n",
    "for i in range(5):\n",
    "    name=input('이름? ')\n",
    "    num=int(input('횟수? '))\n",
    "    print(name*num)  #문자와 숫자 *는 가능"
   ]
  }
 ],
 "metadata": {
  "kernelspec": {
   "display_name": "Python 3 (ipykernel)",
   "language": "python",
   "name": "python3"
  },
  "language_info": {
   "codemirror_mode": {
    "name": "ipython",
    "version": 3
   },
   "file_extension": ".py",
   "mimetype": "text/x-python",
   "name": "python",
   "nbconvert_exporter": "python",
   "pygments_lexer": "ipython3",
   "version": "3.9.12"
  }
 },
 "nbformat": 4,
 "nbformat_minor": 5
}
