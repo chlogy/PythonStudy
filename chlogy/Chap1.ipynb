{
 "cells": [
  {
   "cell_type": "code",
   "execution_count": 1,
   "id": "8e132533",
   "metadata": {},
   "outputs": [
    {
     "name": "stdout",
     "output_type": "stream",
     "text": [
      "렛츠기릿 파이썬\n"
     ]
    }
   ],
   "source": [
    "print('렛츠기릿 파이썬')"
   ]
  },
  {
   "cell_type": "code",
   "execution_count": 5,
   "id": "5077d03a",
   "metadata": {},
   "outputs": [
    {
     "name": "stdout",
     "output_type": "stream",
     "text": [
      "안녕\n",
      "안녕하세여\n"
     ]
    }
   ],
   "source": [
    "a = '안녕'\n",
    "b = \"하세여\"\n",
    "\n",
    "print(a)\n",
    "print(a+b)"
   ]
  }
 ],
 "metadata": {
  "kernelspec": {
   "display_name": "Python 3 (ipykernel)",
   "language": "python",
   "name": "python3"
  },
  "language_info": {
   "codemirror_mode": {
    "name": "ipython",
    "version": 3
   },
   "file_extension": ".py",
   "mimetype": "text/x-python",
   "name": "python",
   "nbconvert_exporter": "python",
   "pygments_lexer": "ipython3",
   "version": "3.9.7"
  }
 },
 "nbformat": 4,
 "nbformat_minor": 5
}
